{
 "cells": [
  {
   "cell_type": "code",
   "execution_count": null,
   "metadata": {},
   "outputs": [],
   "source": [
    "import math\n",
    "import matplotlib.pyplot as plt\n",
    "import numpy as np\n",
    "import sympy as sym\n",
    "from sympy import Symbol, Derivative"
   ]
  },
  {
   "cell_type": "code",
   "execution_count": null,
   "metadata": {},
   "outputs": [],
   "source": [
    "#Function which calculates derivatives with using centered difference\n",
    "def derivative(f,x0,k,order,h):\n",
    "    #Calculates h value\n",
    "    h = math.pow(h,-k)\n",
    "    #Returns corresponding centered difference formulas for the\n",
    "    #first derivative of f at x0 using Taylor’s expansion\n",
    "    if order==2:#Returns corresponding\n",
    "        res= (f(x0+h)-f(x0-h))/(2*h)\n",
    "        return res\n",
    "    elif order==4:\n",
    "        res = (1/(12*h))*( f(x0-2*h)-8*f(x0-h)+8*f(x0+h)-f(x0+2*h))\n",
    "        return res\n",
    "    elif order==6:\n",
    "        res =(2*( f(x0+3*h)-f(x0-3*h))+18*(f(x0-2*h)-f(x0+2*h))+90*(f(x0+h)-f(x0-h)))/(120*h)\n",
    "        return res\n",
    "    else:\n",
    "        #Prints invalid input error\n",
    "        print(\"Order can be only 2, 4 or 6\")\n",
    "        return"
   ]
  },
  {
   "cell_type": "code",
   "execution_count": null,
   "metadata": {},
   "outputs": [],
   "source": [
    "#Function which returns theoretical and real absolute error\n",
    "def errorComparasion(f,diff,x0,k,order,h):\n",
    "    #Finds approximate value of f' using centered difference formula\n",
    "    res= derivative(f,x0,k,order,h)\n",
    "    #Calculates h value\n",
    "    h = math.pow(h,-k)\n",
    "    #Calculates absolute error\n",
    "    absolute_error=abs(diff(1,x0)-res)\n",
    "    #Finds corresponding theoretical error values\n",
    "    if order==2:\n",
    "        theoretical = (h**2/6)*diff(3,x0)\n",
    "    elif order==4:\n",
    "        theoretical =  (h**4/30)*diff(5,x0)\n",
    "    elif order==6:\n",
    "        theoretical =  (h**6/15120)*diff(7,x0)\n",
    "    #Returns absolute and theoretical errors\n",
    "    return absolute_error, theoretical"
   ]
  },
  {
   "cell_type": "code",
   "execution_count": null,
   "metadata": {},
   "outputs": [],
   "source": [
    "def f(x):\n",
    "    return math.exp(x)*math.cos(2*x)"
   ]
  },
  {
   "cell_type": "code",
   "execution_count": null,
   "metadata": {},
   "outputs": [],
   "source": [
    "#Function which returns higher order derivatives of f function\n",
    "def diff(order,x0):\n",
    "    x = sym.Symbol('x')\n",
    "    function= sym.exp(x)*sym.cos(2*x)\n",
    "    for i in range(order):\n",
    "        function =  Derivative(function, x)\n",
    "        function.doit()\n",
    "    return sym.N(function.subs(x, x0))"
   ]
  },
  {
   "cell_type": "code",
   "execution_count": null,
   "metadata": {},
   "outputs": [],
   "source": [
    "#Function which prints theoretical and real absolute errors of calculations\n",
    "def Compare(f,diff,h,k_0,k_1, x_0):\n",
    "    for order in [2,4,6]:\n",
    "        print(\"Order of \"+str(order)+\":\")\n",
    "        for k in range (k_0,k_1+1):\n",
    "            print(\"Step size: \"+str(h)+\"^\"+str(k))\n",
    "            absolute, theoretical=errorComparasion(f,diff,x_0,k,order,h)\n",
    "            print(\"Absolute error:\" +str(absolute)+\" | \"+\"Theoretical error:\" +str(theoretical))"
   ]
  },
  {
   "cell_type": "code",
   "execution_count": null,
   "metadata": {},
   "outputs": [],
   "source": [
    "def Graph(f,diff,h,k_0,k_1, x_0):\n",
    "    second=[] #list for second order approximations\n",
    "    fourth=[] #list for fourth order approximations\n",
    "    sixth=[] #list for sixth order approximations\n",
    "    h_array=[] #list for keeping h values \n",
    "    #Fills h array with negative powers of 10 up to -10th power\n",
    "    for k in range(k_0,k_1+1):\n",
    "        h1 = math.pow(h,-k)\n",
    "        h_array.append(h1)\n",
    "    #Fills lists with approximations for every power of 10\n",
    "    for order in [2,4,6]:\n",
    "        for k in range (k_0,k_1+1):\n",
    "            absolute_error, theoretical =errorComparasion(f,diff,x_0,k,order,h)\n",
    "            if(order==2):\n",
    "                second.append(absolute_error)\n",
    "            if(order==4):\n",
    "                fourth.append(absolute_error)\n",
    "            if(order==6):\n",
    "                sixth.append(absolute_error)\n",
    "    plt.figure()\n",
    "    plt.xlabel(\"h\")\n",
    "    plt.ylabel(\"Absolute Error\")\n",
    "    plt.loglog( h_array,second,\"--\",label=\"second order\")\n",
    "    plt.loglog(h_array, fourth,\"--\",label=\"fourth order\")\n",
    "    plt.loglog( h_array,sixth,\"--\",label=\"sixth order\")\n",
    "    plt.legend()"
   ]
  },
  {
   "cell_type": "code",
   "execution_count": null,
   "metadata": {},
   "outputs": [],
   "source": [
    "Graph(f,diff,10,1,10, 1)"
   ]
  },
  {
   "cell_type": "code",
   "execution_count": null,
   "metadata": {},
   "outputs": [],
   "source": [
    "Compare(f,diff,10,1,10, 1)"
   ]
  },
  {
   "cell_type": "code",
   "execution_count": null,
   "metadata": {},
   "outputs": [],
   "source": []
  }
 ],
 "metadata": {
  "kernelspec": {
   "display_name": "Python 3",
   "language": "python",
   "name": "python3"
  },
  "language_info": {
   "codemirror_mode": {
    "name": "ipython",
    "version": 3
   },
   "file_extension": ".py",
   "mimetype": "text/x-python",
   "name": "python",
   "nbconvert_exporter": "python",
   "pygments_lexer": "ipython3",
   "version": "3.7.6"
  }
 },
 "nbformat": 4,
 "nbformat_minor": 4
}
