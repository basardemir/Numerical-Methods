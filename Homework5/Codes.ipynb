{
  "nbformat": 4,
  "nbformat_minor": 0,
  "metadata": {
    "kernelspec": {
      "display_name": "Python 3",
      "language": "python",
      "name": "python3"
    },
    "language_info": {
      "codemirror_mode": {
        "name": "ipython",
        "version": 3
      },
      "file_extension": ".py",
      "mimetype": "text/x-python",
      "name": "python",
      "nbconvert_exporter": "python",
      "pygments_lexer": "ipython3",
      "version": "3.7.6"
    },
    "colab": {
      "name": "HW5.ipynb",
      "provenance": [],
      "collapsed_sections": []
    }
  },
  "cells": [
    {
      "cell_type": "code",
      "metadata": {
        "id": "pdHaF71Jljy-",
        "colab_type": "code",
        "colab": {}
      },
      "source": [
        "import math\n",
        "import numpy as np\n",
        "import matplotlib.pyplot as plt"
      ],
      "execution_count": 0,
      "outputs": []
    },
    {
      "cell_type": "code",
      "metadata": {
        "id": "i7veXMwVljzB",
        "colab_type": "code",
        "colab": {}
      },
      "source": [
        "#Required f(x) function and its derivatives\n",
        "def f(x):\n",
        "    return math.tan(x)\n",
        "def f_1st_derivative(x):\n",
        "     return math.sec(x)**2\n",
        "def f_2nd_derivative(x):\n",
        "     return (2*math.tan(x))/(math.cos(x)**2)\n",
        "def f_3rd_derivative(x):\n",
        "    return -4*(1/math.cos(x)**2)+6*(1/math.cos(x)**4)"
      ],
      "execution_count": 0,
      "outputs": []
    },
    {
      "cell_type": "code",
      "metadata": {
        "id": "NJtZeJaVljzE",
        "colab_type": "code",
        "colab": {}
      },
      "source": [
        "#Function which returns 2nd derivative and O(h) error\n",
        "def approximate_2nd_derivative(f_3rd_derivative,f,x,h):\n",
        "    result= (f(x)-(2*f(x+h))+f(x+2*h))/(h**2)\n",
        "    theoretical_error= abs(f_3rd_derivative(x)*h)\n",
        "    return result,theoretical_error"
      ],
      "execution_count": 0,
      "outputs": []
    },
    {
      "cell_type": "code",
      "metadata": {
        "id": "CzlWAhMhljzG",
        "colab_type": "code",
        "colab": {}
      },
      "source": [
        "#Function which returns absolute values of  actual and theoretical error for given x and h values\n",
        "def error(f,f_2nd_derivative,f_3rd_derivative,x,h):\n",
        "    result = approximate_2nd_derivative(f_3rd_derivative,f,x,h) #Call derivative function\n",
        "    approximate_result = result[0] #Takes approximate result part\n",
        "    theoretical_error =  result[1] #Takes theoretical error part\n",
        "    actual_result = f_2nd_derivative(x) #Calls actual derivative function\n",
        "    actual_error = abs(actual_result-approximate_result) #Error between real and theoretical results\n",
        "    return actual_error,theoretical_error"
      ],
      "execution_count": 0,
      "outputs": []
    },
    {
      "cell_type": "code",
      "metadata": {
        "id": "vldLDiBwljzI",
        "colab_type": "code",
        "colab": {}
      },
      "source": [
        "def Error_Graph(f,f_2nd_derivative,f_3rd_derivative,x):\n",
        "    theoretical=[] #list for keeping theoretical errors\n",
        "    actual=[] #list for keeping actual errors\n",
        "    h_array=[] #list for keeping h values \n",
        "    #Fills h array with negative powers of 10 up to -10th power\n",
        "    for k in range(1,11):\n",
        "        h1 = math.pow(10,-k)\n",
        "        h_array.append(h1)\n",
        "    #For every h value it calculates actual and theoretical error\n",
        "    for h in h_array:\n",
        "        actual_error, theoretical_error =error(f,f_2nd_derivative,f_3rd_derivative,x,h)\n",
        "        #Adds absolute difference of errors to difference list\n",
        "        theoretical.append(theoretical_error)\n",
        "        actual.append(actual_error)\n",
        "\n",
        "\n",
        "    #Graph for actual and theoretical error observation   \n",
        "    plt.figure()\n",
        "    plt.xlabel(\"h\")\n",
        "    plt.loglog( h_array,theoretical,\"--\", label=\"Theoretical Error\")\n",
        "    plt.loglog( h_array,actual,\"--\", label=\"Actual Error\")\n",
        "    plt.legend()"
      ],
      "execution_count": 0,
      "outputs": []
    },
    {
      "cell_type": "code",
      "metadata": {
        "scrolled": true,
        "id": "trNFGHvpljzL",
        "colab_type": "code",
        "colab": {
          "base_uri": "https://localhost:8080/",
          "height": 283
        },
        "outputId": "04f82b8f-f369-463d-83ae-1d3008fbb113"
      },
      "source": [
        "Error_Graph(f,f_2nd_derivative,f_3rd_derivative,math.pi/4)"
      ],
      "execution_count": 28,
      "outputs": [
        {
          "output_type": "display_data",
          "data": {
            "image/png": "[encoded data removed]",
            "text/plain": [
              "<Figure size 432x288 with 1 Axes>"
            ]
          },
          "metadata": {
            "tags": [],
            "needs_background": "light"
          }
        }
      ]
    },
    {
      "cell_type": "code",
      "metadata": {
        "id": "OcGFOVBzljzN",
        "colab_type": "code",
        "colab": {}
      },
      "source": [
        "#Function returns approxiamate second derivate for given x values  \n",
        "#h values are negative powers of 10 up to -10th power\n",
        "def print_2nd_derivative(f_3rd_derivative,f,x):\n",
        "    for k in range(1,11):\n",
        "            h = math.pow(10,-k)#Calculates h\n",
        "            #Calls derivative function\n",
        "            print('h=',h,'result=', approximate_2nd_derivative(f_3rd_derivative,f,x,h)[0]) "
      ],
      "execution_count": 0,
      "outputs": []
    },
    {
      "cell_type": "code",
      "metadata": {
        "scrolled": true,
        "id": "bb4fGsEPljzQ",
        "colab_type": "code",
        "colab": {
          "base_uri": "https://localhost:8080/",
          "height": 185
        },
        "outputId": "70b0f924-9326-4c45-ed3d-bc0aa35ddf79"
      },
      "source": [
        "print_2nd_derivative(f_3rd_derivative,f,math.pi/4)"
      ],
      "execution_count": 30,
      "outputs": [
        {
          "output_type": "stream",
          "text": [
            "h= 0.1 result= 6.239988622166991\n",
            "h= 0.01 result= 4.164798117778368\n",
            "h= 0.001 result= 4.016046794896866\n",
            "h= 0.0001 result= 4.001600495406876\n",
            "h= 1e-05 result= 4.000162423523078\n",
            "h= 1e-06 result= 3.999911513119514\n",
            "h= 1e-07 result= 4.019007349143068\n",
            "h= 1e-08 result= 0.0\n",
            "h= 1e-09 result= 222.04460492503128\n",
            "h= 1e-10 result= 0.0\n"
          ],
          "name": "stdout"
        }
      ]
    },
    {
      "cell_type": "code",
      "metadata": {
        "id": "XyZg0w7zljzT",
        "colab_type": "code",
        "colab": {}
      },
      "source": [
        "def Condition_graph(f_3rd_derivative,f,x):\n",
        "    results=[] #list for keeping the results\n",
        "    add_array=[]#list for keeping x values\n",
        "    add = 0.0001 #Step size\n",
        "    add_array.append(x)\n",
        "    for k in range(1,11): \n",
        "        #Fills list with x values with adding-subtracting small values\n",
        "        add_array.append(x+add)\n",
        "        add_array.append(x-add)\n",
        "        add +=0.0001\n",
        "    #Sorts array for better graph\n",
        "    add_array.sort()\n",
        "    \n",
        "    h=0.001 #Constant h value\n",
        "    for i in add_array:\n",
        "        #For every value, it calculates second derivative\n",
        "        result = approximate_2nd_derivative(f_3rd_derivative,f,i,h) #Call derivative function\n",
        "        approximate_result = result[0] #Takes approximate result part\n",
        "        results.append(approximate_result)#Adds to results array\n",
        "\n",
        "    #It transfroms x values in terms of pi\n",
        "    for i in range(len(add_array)):\n",
        "         add_array[i] /= math.pi\n",
        "    \n",
        "    #Figure for short step sizes\n",
        "    plt.figure()\n",
        "    plt.xlabel(\"x (unit of pi)\")\n",
        "    plt.plot( add_array,results,\".\", label=\"f''(x)\")\n",
        "    plt.legend()\n",
        "    \n",
        "    #Figure for wider perspective\n",
        "    plt.figure()\n",
        "    f_app = np.vectorize(approximate_2nd_derivative)\n",
        "    x1 = np.linspace(math.pi/6, math.pi/3)\n",
        "    plt.xlabel(\"x (unit of pi)\")\n",
        "    plt.plot(x1/math.pi,f_app(f_3rd_derivative,f,x1,h)[0], label=\"f''(x)\")\n",
        "    plt.legend()"
      ],
      "execution_count": 0,
      "outputs": []
    },
    {
      "cell_type": "code",
      "metadata": {
        "id": "EOqwF4tSljzV",
        "colab_type": "code",
        "colab": {
          "base_uri": "https://localhost:8080/",
          "height": 541
        },
        "outputId": "fc514cb2-fccd-4434-f9c1-ff8254810666"
      },
      "source": [
        "Condition_graph(f_3rd_derivative,f,math.pi/4)"
      ],
      "execution_count": 32,
      "outputs": [
        {
          "output_type": "display_data",
          "data": {
            "image/png": "[encoded data removed]",
            "text/plain": [
              "<Figure size 432x288 with 1 Axes>"
            ]
          },
          "metadata": {
            "tags": [],
            "needs_background": "light"
          }
        },
        {
          "output_type": "display_data",
          "data": {
            "image/png": "[encoded data removed]",
            "text/plain": [
              "<Figure size 432x288 with 1 Axes>"
            ]
          },
          "metadata": {
            "tags": [],
            "needs_background": "light"
          }
        }
      ]
    }
  ]
}